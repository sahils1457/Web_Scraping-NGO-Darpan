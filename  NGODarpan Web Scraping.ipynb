{
 "cells": [
  {
   "cell_type": "code",
   "execution_count": 1,
   "metadata": {},
   "outputs": [],
   "source": [
    "import pandas as pd\n",
    "import numpy as np\n",
    "import urllib.request\n",
    "from bs4 import BeautifulSoup\n",
    "import requests\n",
    "import json\n",
    "import re"
   ]
  },
  {
   "cell_type": "code",
   "execution_count": 2,
   "metadata": {},
   "outputs": [],
   "source": [
    "main = {'ANDAMAN & NICOBAR ISLANDS': 'https://ngodarpan.gov.in/index.php/home/statewise_ngo/113/35/{}',\n",
    " 'ANDHRA PRADESH': 'https://ngodarpan.gov.in/index.php/home/statewise_ngo/3914/28/{}',\n",
    " 'ARUNACHAL PRADESH': 'https://ngodarpan.gov.in/index.php/home/statewise_ngo/389/12/{}',\n",
    " 'ASSAM': 'https://ngodarpan.gov.in/index.php/home/statewise_ngo/1793/18/{}',\n",
    " 'BIHAR': 'https://ngodarpan.gov.in/index.php/home/statewise_ngo/3496/10/{}',\n",
    " 'CHANDIGARH': 'https://ngodarpan.gov.in/index.php/home/statewise_ngo/178/4/{}',\n",
    " 'CHHATTISGARH': 'https://ngodarpan.gov.in/index.php/home/statewise_ngo/1517/22/{}',\n",
    " 'DADRA & NAGAR HAVELI': 'https://ngodarpan.gov.in/index.php/home/statewise_ngo/24/26/{}',\n",
    " 'DAMAN & DIU': 'https://ngodarpan.gov.in/index.php/home/statewise_ngo/15/25/{}',\n",
    " 'DELHI': 'https://ngodarpan.gov.in/index.php/home/statewise_ngo/7865/7/{}',\n",
    " 'GOA': 'https://ngodarpan.gov.in/index.php/home/statewise_ngo/209/30/{}',\n",
    " 'GUJARAT': 'https://ngodarpan.gov.in/index.php/home/statewise_ngo/5010/24/{}',\n",
    " 'HARYANA': 'https://ngodarpan.gov.in/index.php/home/statewise_ngo/2223/6/{}',\n",
    " 'HIMACHAL PRADESH': 'https://ngodarpan.gov.in/index.php/home/statewise_ngo/620/2/{}',\n",
    " 'JAMMU & KASHMIR': 'https://ngodarpan.gov.in/index.php/home/statewise_ngo/1235/1/{}',\n",
    " 'JHARKHAND': 'https://ngodarpan.gov.in/index.php/home/statewise_ngo/1746/20/{}',\n",
    " 'KARNATAKA': 'https://ngodarpan.gov.in/index.php/home/statewise_ngo/5827/29/{}',\n",
    " 'KERALA': 'https://ngodarpan.gov.in/index.php/home/statewise_ngo/3037/32/{}',\n",
    " 'LADAKH': 'https://ngodarpan.gov.in/index.php/home/statewise_ngo/144/37/{}',\n",
    " 'LAKSHADWEEP': 'https://ngodarpan.gov.in/index.php/home/statewise_ngo/2/31/{}',\n",
    " 'MADHYA PRADESH': 'https://ngodarpan.gov.in/index.php/home/statewise_ngo/5230/23/{}',\n",
    " 'MAHARASHTRA': 'https://ngodarpan.gov.in/index.php/home/statewise_ngo/13933/27/{}',\n",
    " 'MANIPUR': 'https://ngodarpan.gov.in/index.php/home/statewise_ngo/2064/14/{}',\n",
    " 'MEGHALAYA': 'https://ngodarpan.gov.in/index.php/home/statewise_ngo/234/17/{}',\n",
    " 'MIZORAM': 'https://ngodarpan.gov.in/index.php/home/statewise_ngo/196/15/{}',\n",
    " 'NAGALAND': 'https://ngodarpan.gov.in/index.php/home/statewise_ngo/352/13/{}',\n",
    " 'ORISSA': 'https://ngodarpan.gov.in/index.php/home/statewise_ngo/3137/21/{}',\n",
    " 'PUDUCHERRY': 'https://ngodarpan.gov.in/index.php/home/statewise_ngo/248/34/{}',\n",
    " 'PUNJAB': 'https://ngodarpan.gov.in/index.php/home/statewise_ngo/1307/3/{}',\n",
    " 'RAJASTHAN': 'https://ngodarpan.gov.in/index.php/home/statewise_ngo/3911/8/{}',\n",
    " 'SIKKIM': 'https://ngodarpan.gov.in/index.php/home/statewise_ngo/91/11/{}',\n",
    " 'TAMIL NADU': 'https://ngodarpan.gov.in/index.php/home/statewise_ngo/7287/33/{}',\n",
    " 'TELANGANA': 'https://ngodarpan.gov.in/index.php/home/statewise_ngo/2301/36/{}',\n",
    " 'TRIPURA': 'https://ngodarpan.gov.in/index.php/home/statewise_ngo/397/16/{}',\n",
    " 'UTTAR PRADESH': 'https://ngodarpan.gov.in/index.php/home/statewise_ngo/14418/9/{}',\n",
    " 'UTTARAKHAND': 'https://ngodarpan.gov.in/index.php/home/statewise_ngo/1500/5/{}',\n",
    " 'WEST BENGAL': 'https://ngodarpan.gov.in/index.php/home/statewise_ngo/7900/19/{}'}"
   ]
  },
  {
   "cell_type": "code",
   "execution_count": 3,
   "metadata": {},
   "outputs": [
    {
     "name": "stdout",
     "output_type": "stream",
     "text": [
      "Enter stateuttar pradesh\n"
     ]
    }
   ],
   "source": [
    "state = input('Enter state').upper()"
   ]
  },
  {
   "cell_type": "code",
   "execution_count": 4,
   "metadata": {},
   "outputs": [],
   "source": [
    "def get_token(sess):\n",
    "    req_csrf = sess.get('https://ngodarpan.gov.in/index.php/ajaxcontroller/get_csrf')\n",
    "    return req_csrf.json()['csrf_token']"
   ]
  },
  {
   "cell_type": "code",
   "execution_count": 5,
   "metadata": {},
   "outputs": [],
   "source": [
    "url = main[state]\n",
    "detail_url = 'https://ngodarpan.gov.in/index.php/ajaxcontroller/show_ngo_info'"
   ]
  },
  {
   "cell_type": "code",
   "execution_count": 6,
   "metadata": {},
   "outputs": [
    {
     "data": {
      "text/plain": [
       "'https://ngodarpan.gov.in/index.php/home/statewise_ngo/14418/9/{}'"
      ]
     },
     "execution_count": 6,
     "metadata": {},
     "output_type": "execute_result"
    }
   ],
   "source": [
    "url"
   ]
  },
  {
   "cell_type": "code",
   "execution_count": 7,
   "metadata": {},
   "outputs": [],
   "source": [
    "sess = requests.Session()"
   ]
  },
  {
   "cell_type": "code",
   "execution_count": 8,
   "metadata": {},
   "outputs": [
    {
     "name": "stdout",
     "output_type": "stream",
     "text": [
      "Enter starting page: 1\n",
      "Enter ending page: 1\n"
     ]
    }
   ],
   "source": [
    "first = int(input('Enter starting page: '))\n",
    "last = int(input('Enter ending page: '))\n",
    "lis = []"
   ]
  },
  {
   "cell_type": "code",
   "execution_count": 9,
   "metadata": {},
   "outputs": [],
   "source": [
    "for i in range(first, last + 1):\n",
    "    html = urllib.request.urlopen(url.format(i)).read()\n",
    "    soup = BeautifulSoup(html)\n",
    "    table = soup.find_all('table')\n",
    "    all_a = table[0].find_all('a')\n",
    "    for j in range(len(all_a)):\n",
    "        file = {}\n",
    "        link = re.findall(\"show_ngo_info\\(\\\"(\\S+)\\\"\\);\", all_a[j]['onclick'])[0]\n",
    "        req_details = sess.post(detail_url, headers={'X-Requested-With' : 'XMLHttpRequest'}, data={'id' : link, 'csrf_test_name' : get_token(sess)}).json()\n",
    "        file['Unique ID of VO/NGO'] = req_details['infor']['0']['UniqueID']\n",
    "        file['NGO Name'] = req_details['infor']['0']['ngo_name']\n",
    "        file['Email ID'] = req_details['infor']['0']['Email']\n",
    "        file['Contact #'] = req_details['infor']['0']['Mobile']\n",
    "        file['City'] = req_details['registeration_info'][0]['nr_city']\n",
    "        file['State'] = 'UTTAR PRADESH'\n",
    "        file['Sector'] = req_details['infor']['issues_working_db']\n",
    "        file['Website URL'] = req_details['infor']['0']['ngo_url']\n",
    "        lis.append(file)"
   ]
  },
  {
   "cell_type": "code",
   "execution_count": 10,
   "metadata": {},
   "outputs": [],
   "source": [
    "df = pd.DataFrame(lis)\n",
    "df['Instagram Page link'] = \"\"\n",
    "df['Facebook Page link'] = \"\"\n",
    "df['Linked Profile link'] = \"\"\n",
    "df['Remarks/additional information'] = \"\""
   ]
  },
  {
   "cell_type": "code",
   "execution_count": 15,
   "metadata": {},
   "outputs": [],
   "source": [
    "df.to_csv('NGO_Data of State- {}, from {} to {}.csv'.format(state, first, last))"
   ]
  }
 ],
 "metadata": {
  "kernelspec": {
   "display_name": "Python 3",
   "language": "python",
   "name": "python3"
  },
  "language_info": {
   "codemirror_mode": {
    "name": "ipython",
    "version": 3
   },
   "file_extension": ".py",
   "mimetype": "text/x-python",
   "name": "python",
   "nbconvert_exporter": "python",
   "pygments_lexer": "ipython3",
   "version": "3.7.1"
  }
 },
 "nbformat": 4,
 "nbformat_minor": 4
}
